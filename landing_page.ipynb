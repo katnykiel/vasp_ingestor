{
 "cells": [
  {
   "cell_type": "markdown",
   "id": "25993330",
   "metadata": {},
   "source": [
    "# VASP Ingestor\n",
    "###  Kat Nykiel, Alejandro Strachan\n",
    "School of Materials Engineering and Birck Nanotechnology Center, Purdue University, West Lafayette, Indiana 47907, United States"
   ]
  },
  {
   "cell_type": "markdown",
   "id": "73735808",
   "metadata": {
    "ExecuteTime": {
     "end_time": "2023-06-21T16:42:11.473732Z",
     "start_time": "2023-06-21T16:42:11.468123Z"
    }
   },
   "source": [
    "## Abstract\n",
    "This [Sim2L](https://journals.plos.org/plosone/article?id=10.1371/journal.pone.0264492) allows researchers to share their density functional theory calculations performed using VASP and make the findable, accessible, interoperable, and reusable ([FAIR](https://www.go-fair.org/fair-principles/)). Users can upload their raw output file (with minimal manipulation) and the Sim2L extracts basic results and automatically indexes the raw and post-processed data into a globally accessible database. The table associated with this tool has a unique identifier ([DOI](doi:10.21981/4FM5-GB08)) and each entry has a unique internal identifier.\n",
    "\n",
    "Using this Sim2L, researchers satisfy data-sharing requirements such as those called for by the [US Office of Science and Technology Policy](https://www.whitehouse.gov/ostp/news-updates/2022/08/25/ostp-issues-guidance-to-make-federally-funded-research-freely-available-without-delay/)\n"
   ]
  },
  {
   "cell_type": "markdown",
   "id": "3296adfd",
   "metadata": {},
   "source": [
    "## VASP Data Ingestor Input/Output Overview\n",
    "\n",
    "The Sim2L takes three inputs: \n",
    "- the VASP run in JSON format (obtained with [atomate2](https://github.com/materialsproject/atomate2))\n",
    "- the Author associated with the dataset\n",
    "- a Tag to identify the specific dataset\n",
    "\n",
    "The Sim2L ingests the results and extracts the following outputs: \n",
    "\n",
    "| Name               | Type       | Unit | Description                                                                |                                                                            |\n",
    "| ------------------ | ---------- | ---- | -------------------------------------------------------------------------- |                              |\n",
    "| Structure (O)          | Dictionary | n/a  | pymatgen Structure object, containing lattice vectors and atomic positions |\n",
    "| Composition (O)         | Dictionary | n/a  | Chemical composition of the unit cell                                      |\n",
    "| lattice_parameters (O)  | Array      | Å    | a, b, c lattice parameters of unit cell                                    |\n",
    "| Energy (O)              | Number     | eV   | Total energy of the system                                                 |\n",
    "| Stress (O)              | Array      | kbar | External pressure of the system                                            |\n",
    "| Forces (O)              | Array      | eV/Å | List of (x,y,z) forces on each atom                                        |\n",
    "| max_force (O)           | Number     | eV/Å | Maximum force reported during the simulation                               |\n",
    "| rms_force (O)           | Number     | eV/Å | Root mean square force reported during the simulation                      |\n",
    "| KPOINTS (O)             | Array      | n/a  | Number of k-points in the x, y, and z directions                           |\n",
    "| ENCUT (O)               | Number     | eV   | Kinetic energy cutoff for the plane wave basis set                         |\n",
    "| XC_functional (O)       | String     | n/a  | Choice of exchange-correlation functional used, read from VASP's GGA tag   |\n",
    "| Pseudopotential (O)     | String     | n/a  | Choice of pseudopotential used                                             |\n",
    "\n",
    "All inputs and outputs are indexed in the ResultsDB: https://nanohub.org/results.  \n",
    "\n",
    "The Sim2L itself can be found here here: [vaspingestor.ipynb](simtool/vaspingestor.ipynb)\n"
   ]
  },
  {
   "cell_type": "markdown",
   "id": "e424bb70",
   "metadata": {},
   "source": [
    "## Upload your VASP run and make your results FAIR\n",
    "This notebook shows how to upload your VASP run into the Sim2L. nanoHUB does the rest automatically. Once you upload your data, it will be automatically indexed into the results database.\n",
    "\n",
    "[Upload your VASP file and share it](notebooks/workflow.ipynb)\n"
   ]
  },
  {
   "cell_type": "markdown",
   "id": "489838d2",
   "metadata": {},
   "source": [
    "## Query the ResultsDB and explore VASP data \n",
    "This notebook shows how to query the ResultsDB and visualize the data. The example is from the paper “High-Throughput Density Functional Theory Screening of Double Transition Metal MXenes” by Nykiel and Strachan and shows how to reproduce some of the figures in the publication.\n",
    "\n",
    "[resultsDB_query.ipynb](notebooks/resultsDB_query.ipynb)"
   ]
  },
  {
   "cell_type": "code",
   "execution_count": null,
   "id": "82b4d13c",
   "metadata": {},
   "outputs": [],
   "source": []
  }
 ],
 "metadata": {
  "kernelspec": {
   "display_name": "Python 3.8",
   "language": "python",
   "name": "python3"
  },
  "language_info": {
   "codemirror_mode": {
    "name": "ipython",
    "version": 3
   },
   "file_extension": ".py",
   "mimetype": "text/x-python",
   "name": "python",
   "nbconvert_exporter": "python",
   "pygments_lexer": "ipython3",
   "version": "3.8.10"
  },
  "toc": {
   "base_numbering": 1,
   "nav_menu": {},
   "number_sections": true,
   "sideBar": true,
   "skip_h1_title": false,
   "title_cell": "Table of Contents",
   "title_sidebar": "Contents",
   "toc_cell": false,
   "toc_position": {},
   "toc_section_display": true,
   "toc_window_display": false
  },
  "varInspector": {
   "cols": {
    "lenName": 16,
    "lenType": 16,
    "lenVar": 40
   },
   "kernels_config": {
    "python": {
     "delete_cmd_postfix": "",
     "delete_cmd_prefix": "del ",
     "library": "var_list.py",
     "varRefreshCmd": "print(var_dic_list())"
    },
    "r": {
     "delete_cmd_postfix": ") ",
     "delete_cmd_prefix": "rm(",
     "library": "var_list.r",
     "varRefreshCmd": "cat(var_dic_list()) "
    }
   },
   "types_to_exclude": [
    "module",
    "function",
    "builtin_function_or_method",
    "instance",
    "_Feature"
   ],
   "window_display": false
  }
 },
 "nbformat": 4,
 "nbformat_minor": 5
}
