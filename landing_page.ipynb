{
 "cells": [
  {
   "cell_type": "markdown",
   "id": "25993330",
   "metadata": {},
   "source": [
    "# VASP Ingestor\n",
    "###  Kat Nykiel, Dr. Alejandro Strachan\n"
   ]
  },
  {
   "cell_type": "markdown",
   "id": "02512469",
   "metadata": {},
   "source": [
    "The purpose of this Sim2L is to obtain relevant features from density functional theory calculations to establish a clear methodology of how these features were derived.This is in accordance with [FAIR data principles](https://www.go-fair.org/fair-principles/), which promote Findable, Accessible, Interoperable, and Reusable data. \n"
   ]
  },
  {
   "cell_type": "markdown",
   "id": "3296adfd",
   "metadata": {},
   "source": [
    "## VASPingestor Sim2L \n",
    "The Sim2L workflow for parsing VASP outputs is linked here: [workflow.ipynb](notebooks/workflow.ipynb)\n",
    "\n",
    "An example workflow using vaspingestor on a dataset of DTM MAX phases is provided here: [resultsDB_query.ipynb](notebooks/resultsDB_query.ipynb)\n",
    "\n",
    "The Sim2L itself is linked here: [vaspingestor.ipynb](simtool/vaspingestor.ipynb)\n"
   ]
  },
  {
   "cell_type": "code",
   "execution_count": null,
   "id": "82b4d13c",
   "metadata": {},
   "outputs": [],
   "source": []
  }
 ],
 "metadata": {
  "kernelspec": {
   "display_name": "Python 3.8",
   "language": "python",
   "name": "python3"
  },
  "language_info": {
   "codemirror_mode": {
    "name": "ipython",
    "version": 3
   },
   "file_extension": ".py",
   "mimetype": "text/x-python",
   "name": "python",
   "nbconvert_exporter": "python",
   "pygments_lexer": "ipython3",
   "version": "3.8.10"
  },
  "toc": {
   "base_numbering": 1,
   "nav_menu": {},
   "number_sections": true,
   "sideBar": true,
   "skip_h1_title": false,
   "title_cell": "Table of Contents",
   "title_sidebar": "Contents",
   "toc_cell": false,
   "toc_position": {},
   "toc_section_display": true,
   "toc_window_display": false
  },
  "varInspector": {
   "cols": {
    "lenName": 16,
    "lenType": 16,
    "lenVar": 40
   },
   "kernels_config": {
    "python": {
     "delete_cmd_postfix": "",
     "delete_cmd_prefix": "del ",
     "library": "var_list.py",
     "varRefreshCmd": "print(var_dic_list())"
    },
    "r": {
     "delete_cmd_postfix": ") ",
     "delete_cmd_prefix": "rm(",
     "library": "var_list.r",
     "varRefreshCmd": "cat(var_dic_list()) "
    }
   },
   "types_to_exclude": [
    "module",
    "function",
    "builtin_function_or_method",
    "instance",
    "_Feature"
   ],
   "window_display": false
  }
 },
 "nbformat": 4,
 "nbformat_minor": 5
}
