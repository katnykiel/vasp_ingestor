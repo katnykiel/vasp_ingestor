{
 "cells": [
  {
   "cell_type": "code",
   "execution_count": null,
   "metadata": {
    "tags": [
     "DESCRIPTION"
    ]
   },
   "outputs": [],
   "source": [
    "DESCRIPTION = \"\"\"Convert an atomate2 TaskDocument of VASP data to an interpretable set of features\"\"\""
   ]
  },
  {
   "cell_type": "code",
   "execution_count": null,
   "metadata": {},
   "outputs": [],
   "source": [
    "%load_ext yamlmagic"
   ]
  },
  {
   "cell_type": "code",
   "execution_count": null,
   "metadata": {},
   "outputs": [],
   "source": [
    "%%yaml INPUTS\n",
    "\n",
    "doc:\n",
    "    type: Dict\n",
    "    description: Atomate2 TaskDocument to be converted to a set of interpretable features\n",
    "    value: {}\n",
    "        \n",
    "author:\n",
    "    type: Tag\n",
    "    description: Author name for this vasp input\n",
    "    value: \"\"\n",
    "        \n",
    "dataset:\n",
    "    type: Tag\n",
    "    description: Dataset associated with this vasp input\n",
    "    value: \"\""
   ]
  },
  {
   "cell_type": "code",
   "execution_count": null,
   "metadata": {
    "tags": [
     "FILES"
    ]
   },
   "outputs": [],
   "source": [
    "EXTRA_FILES = []"
   ]
  },
  {
   "cell_type": "code",
   "execution_count": null,
   "metadata": {
    "tags": [
     "parameters"
    ]
   },
   "outputs": [],
   "source": [
    "from simtool import getValidatedInputs\n",
    "\n",
    "defaultInputs = getValidatedInputs(INPUTS)\n",
    "if defaultInputs:\n",
    "    globals().update(defaultInputs)"
   ]
  },
  {
   "cell_type": "code",
   "execution_count": null,
   "metadata": {},
   "outputs": [],
   "source": [
    "from simtool import getParamsFromDictionary\n",
    "\n",
    "inputParameters = getParamsFromDictionary(INPUTS,globals())"
   ]
  },
  {
   "cell_type": "code",
   "execution_count": null,
   "metadata": {
    "code_folding": []
   },
   "outputs": [],
   "source": [
    "%%yaml OUTPUTS\n",
    "\n",
    "structure:\n",
    "    type: Dict\n",
    "    description: pymatgen Structure object, containing lattice vectors and atomic positions\n",
    "\n",
    "composition: # TODO: ask saswat about ways to make composition easily queryable\n",
    "    type: Dict\n",
    "    description: chemical composition of the compound \n",
    "\n",
    "lattice_parameters:\n",
    "    type: Array\n",
    "    description: a, b, c lattice parameters of unit cell (Å)\n",
    "\n",
    "lattice_angles:\n",
    "    type: Array\n",
    "    description: α, β, γ angles of the unit cell (degrees)\n",
    "        \n",
    "energy:\n",
    "    type: Number\n",
    "    description: total energy of the system (eV)\n",
    "\n",
    "stress:\n",
    "    type: Array\n",
    "    description: stress tensor of the system (kbar) # TODO: verify units from atomate\n",
    "\n",
    "forces:\n",
    "    type: Array\n",
    "    description: forces on each atom (eV/Å) # TODO: verify units from atomate\n",
    "        \n",
    "max_force:\n",
    "    type: Number\n",
    "    description: maximum force reported during the simulation (eV/Å)\n",
    "        \n",
    "rms_force:\n",
    "    type: Number\n",
    "    description: RMS force reported during the simulation (eV/Å)\n",
    "\n",
    "KPOINTS:\n",
    "    type: Array\n",
    "    description: number of k-points in the x, y, and z directions\n",
    "\n",
    "ENCUT:\n",
    "    type: Number\n",
    "    description: kinetic energy cutoff for the plane wave basis set (eV)\n",
    "        \n",
    "XC_functional:\n",
    "    type: Tag\n",
    "    description: choice of exchange-correlation functional used, read from VASP's GGA tag\n",
    "        \n",
    "pseudopotential:\n",
    "    type: Tag\n",
    "    description: choice of pseudopotential used\n"
   ]
  },
  {
   "cell_type": "code",
   "execution_count": null,
   "metadata": {},
   "outputs": [],
   "source": [
    "# Import required libraries\n",
    "import numpy as np\n",
    "from pymatgen.core import Structure\n"
   ]
  },
  {
   "cell_type": "code",
   "execution_count": null,
   "metadata": {},
   "outputs": [],
   "source": [
    "# Validate inputs\n",
    "\n",
    "# check if keys in input_dict are the same keys as in an atomate2 task document (atomate2 version 0.0.7)\n",
    "doc_keys = ['composition', 'input', 'output', 'structure', 'calcs_reversed']\n",
    "\n",
    "\n",
    "if any(key not in doc.keys() for key in doc_keys):\n",
    "    raise Exception(\"This doesn't appear to be an atomate2 TaskDocument dict. \\nSee the vaspingestor Sim2L documentation for details\")"
   ]
  },
  {
   "cell_type": "code",
   "execution_count": null,
   "metadata": {
    "ExecuteTime": {
     "end_time": "2023-02-10T15:33:31.309500Z",
     "start_time": "2023-02-10T15:33:31.108819Z"
    }
   },
   "outputs": [],
   "source": [
    "# structure information\n",
    "structure = doc['output']['structure']\n",
    "composition = doc['composition']\n",
    "struct = Structure.from_dict(structure)\n",
    "lattice_parameters = np.array(struct.lattice.abc)\n",
    "lattice_angles = np.array(struct.lattice.angles)\n",
    "\n",
    "# simulation outputs\n",
    "energy = doc['output']['energy']\n",
    "stress = doc['output']['stress']\n",
    "forces = doc['output']['forces']\n",
    "\n",
    "max_force = np.max(forces)\n",
    "rms_force = np.sqrt(np.mean([f**2 for f in np.array(forces).flatten()]))\n",
    "\n",
    "# simulation parameters\n",
    "KPOINTS = doc['calcs_reversed'][-1]['input']['kpoints']['kpoints'][0]\n",
    "ENCUT = doc['calcs_reversed'][-1]['input']['incar']['ENCUT']\n",
    "\n",
    "XC_functional = doc['input']['parameters']['GGA'] \n",
    "pseudopotential = doc['input']['pseudo_potentials']['pot_type']\n"
   ]
  },
  {
   "cell_type": "code",
   "execution_count": null,
   "metadata": {},
   "outputs": [],
   "source": [
    "from simtool import DB\n",
    "db = DB(OUTPUTS)"
   ]
  },
  {
   "cell_type": "code",
   "execution_count": null,
   "metadata": {},
   "outputs": [],
   "source": [
    "db.save('structure',structure)\n",
    "db.save('composition',composition)\n",
    "db.save('lattice_parameters',lattice_parameters)\n",
    "db.save('lattice_angles',lattice_angles)\n",
    "db.save('energy',energy)\n",
    "db.save('stress',stress)\n",
    "db.save('forces',forces)\n",
    "db.save('max_force',max_force)\n",
    "db.save('rms_force',rms_force)\n",
    "db.save('KPOINTS',KPOINTS)\n",
    "db.save('ENCUT',ENCUT)\n",
    "db.save('XC_functional',XC_functional)\n",
    "db.save('pseudopotential',pseudopotential)"
   ]
  },
  {
   "cell_type": "code",
   "execution_count": null,
   "metadata": {},
   "outputs": [],
   "source": []
  }
 ],
 "metadata": {
  "celltoolbar": "Tags",
  "kernelspec": {
   "display_name": "Python 3.8",
   "language": "python",
   "name": "python3"
  },
  "language_info": {
   "codemirror_mode": {
    "name": "ipython",
    "version": 3
   },
   "file_extension": ".py",
   "mimetype": "text/x-python",
   "name": "python",
   "nbconvert_exporter": "python",
   "pygments_lexer": "ipython3",
   "version": "3.8.10"
  },
  "toc": {
   "base_numbering": 1,
   "nav_menu": {},
   "number_sections": true,
   "sideBar": true,
   "skip_h1_title": false,
   "title_cell": "Table of Contents",
   "title_sidebar": "Contents",
   "toc_cell": false,
   "toc_position": {},
   "toc_section_display": true,
   "toc_window_display": false
  },
  "varInspector": {
   "cols": {
    "lenName": 16,
    "lenType": 16,
    "lenVar": 40
   },
   "kernels_config": {
    "python": {
     "delete_cmd_postfix": "",
     "delete_cmd_prefix": "del ",
     "library": "var_list.py",
     "varRefreshCmd": "print(var_dic_list())"
    },
    "r": {
     "delete_cmd_postfix": ") ",
     "delete_cmd_prefix": "rm(",
     "library": "var_list.r",
     "varRefreshCmd": "cat(var_dic_list()) "
    }
   },
   "types_to_exclude": [
    "module",
    "function",
    "builtin_function_or_method",
    "instance",
    "_Feature"
   ],
   "window_display": false
  },
  "vscode": {
   "interpreter": {
    "hash": "e1f3f00537263988fa85769ed8986b296664a8d121acde373600e1f4c9c6d449"
   }
  }
 },
 "nbformat": 4,
 "nbformat_minor": 2
}
